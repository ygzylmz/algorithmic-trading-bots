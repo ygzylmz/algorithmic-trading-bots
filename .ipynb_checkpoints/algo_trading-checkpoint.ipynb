{
 "cells": [
  {
   "cell_type": "markdown",
   "metadata": {},
   "source": [
    "# Algorithmic Trading Çalışması"
   ]
  },
  {
   "cell_type": "markdown",
   "metadata": {},
   "source": [
    "Bu notebook'ta çeşitli makine öğrenmesi metodları kullanılarak algorithmic trading yapılmaya çalışılmaktadır.\n",
    "***\n",
    "**Hazırlayan:** Yağız Yılmaz"
   ]
  },
  {
   "cell_type": "markdown",
   "metadata": {},
   "source": [
    "## Import'lar ve Ayarlamalar"
   ]
  },
  {
   "cell_type": "code",
   "execution_count": 1,
   "metadata": {
    "ExecuteTime": {
     "end_time": "2020-01-22T19:57:41.837216Z",
     "start_time": "2020-01-22T19:57:41.832985Z"
    }
   },
   "outputs": [],
   "source": [
    "# interactive output'lar için:\n",
    "from IPython.core.interactiveshell import InteractiveShell\n",
    "InteractiveShell.ast_node_interactivity = \"all\""
   ]
  },
  {
   "cell_type": "markdown",
   "metadata": {},
   "source": [
    "Burada Boris Banushev'in çalışması kullanılmıştır.\n",
    "<br>\n",
    "Github: https://github.com/borisbanushev/stockpredictionai\n",
    "<br>\n",
    "Medium: https://towardsdatascience.com/aifortrading-2edd6fac689d"
   ]
  },
  {
   "cell_type": "code",
   "execution_count": 2,
   "metadata": {
    "ExecuteTime": {
     "end_time": "2020-01-22T19:57:44.968555Z",
     "start_time": "2020-01-22T19:57:41.840638Z"
    },
    "run_control": {
     "marked": false
    }
   },
   "outputs": [],
   "source": [
    "# Boris Bonushev'in çalışmasının inputları:\n",
    "from utils import *\n",
    "import time\n",
    "import datetime\n",
    "import numpy as np\n",
    "import pandas as pd\n",
    "\n",
    "from mxnet import nd, autograd, gluon\n",
    "from mxnet.gluon import nn, rnn\n",
    "import mxnet as mx\n",
    "\n",
    "import matplotlib.pyplot as plt\n",
    "# matplotlib görsellerini notebook'ta görmek için:\n",
    "%matplotlib inline\n",
    "import seaborn as sns\n",
    "\n",
    "import math\n",
    "\n",
    "from sklearn.decomposition import PCA\n",
    "from sklearn.preprocessing import MinMaxScaler\n",
    "from sklearn.metrics import mean_squared_error\n",
    "from sklearn.preprocessing import StandardScaler\n",
    "\n",
    "import xgboost as xgb\n",
    "from sklearn.metrics import accuracy_score"
   ]
  },
  {
   "cell_type": "code",
   "execution_count": 3,
   "metadata": {
    "ExecuteTime": {
     "end_time": "2020-01-22T19:57:44.979057Z",
     "start_time": "2020-01-22T19:57:44.971642Z"
    }
   },
   "outputs": [],
   "source": [
    "# daha güzel grafikler için:\n",
    "sns.set()"
   ]
  },
  {
   "cell_type": "code",
   "execution_count": 4,
   "metadata": {
    "ExecuteTime": {
     "end_time": "2020-01-22T19:57:44.989647Z",
     "start_time": "2020-01-22T19:57:44.982877Z"
    }
   },
   "outputs": [
    {
     "name": "stderr",
     "output_type": "stream",
     "text": [
      "/Users/yagizyilmaz/opt/anaconda3/lib/python3.7/site-packages/ipykernel_launcher.py:6: UserWarning: warning test 1\n",
      "  \n"
     ]
    }
   ],
   "source": [
    "# warning ayarlamaları\n",
    "import warnings\n",
    "\n",
    "# test için:\n",
    "warnings.filterwarnings(\"always\")\n",
    "warnings.warn(\"warning test 1\")\n",
    "\n",
    "warnings.filterwarnings(\"ignore\")\n",
    "# tüm warningler ignore edilir, gösterilmez.\n",
    "warnings.warn(\"warning test 2\")"
   ]
  },
  {
   "cell_type": "markdown",
   "metadata": {},
   "source": [
    "## Veri Girişi"
   ]
  },
  {
   "cell_type": "markdown",
   "metadata": {},
   "source": [
    "Burada Boris MXNet için işlemler yapıyor. NEDEN???"
   ]
  },
  {
   "cell_type": "code",
   "execution_count": 5,
   "metadata": {
    "ExecuteTime": {
     "end_time": "2020-01-23T16:12:21.911504Z",
     "start_time": "2020-01-23T16:12:21.863159Z"
    }
   },
   "outputs": [],
   "source": [
    "context = mx.cpu()\n",
    "model_ctx = mx.cpu()\n",
    "mx.random.seed(1719)"
   ]
  },
  {
   "cell_type": "markdown",
   "metadata": {
    "ExecuteTime": {
     "end_time": "2020-01-23T16:14:18.733582Z",
     "start_time": "2020-01-23T16:14:18.726333Z"
    }
   },
   "source": [
    "**MXNet ile ilgili çeşitli bilgiler:** (internetten bulundu)\n",
    "\n",
    "- Apache MXNet, derin sinir ağlarını eğitmek ve yerleştirmek için kullanılan açık kaynaklı bir derin öğrenme yazılımı çerçevesidir. Hızlı model eğitimi sağlayan ölçeklenebilir ve esnek bir programlama modelini ve çoklu programlama dilini destekler\n",
    "\n",
    "- MXNet, Keras gibi yüksek seviye kütüphanedir, ancak farklı şekillerde bizlere kolaylıklar sağlıyor.\n",
    "\n",
    "- Bir taraftan, MXNet’i kullanarak Keras’ı kullanmaktan çok bir ağ oluşturmak için daha fazla çaba gerektiriyor. Daha az öğretici sayesinde daha keskin bir öğrenme eğrisi bulduk.\n",
    "\n",
    "- Bununla birlikte, bunun için 7 farklı dilde çalışmalarınızı destekler! Bunlar arasında C++, Python, R, Javascript ve hatta Matlab bulunur.\n",
    "\n",
    "- MXNet gerçek bir polyglot (çok dilli) olmasından dolayı, farklı dillerde model paylaşan ekipler için harika çözümler sunmaktadır.\n",
    "\n",
    "- MXNet’in diğer bir avantajı da dağıtılmış bilgi işlemini desteklemesidir. Bu, birden fazla CPU veya GPU üzerinde eğitim vererek, eğitim hızını artırma ihtiyacınız varsa, MXNet sizin için doğru kütüphanedir."
   ]
  },
  {
   "cell_type": "code",
   "execution_count": null,
   "metadata": {},
   "outputs": [],
   "source": [
    "def parser(x):\n",
    "    return datetime.datetime.strptime(x,'%Y-%m-%d')"
   ]
  }
 ],
 "metadata": {
  "kernelspec": {
   "display_name": "Python 3",
   "language": "python",
   "name": "python3"
  },
  "language_info": {
   "codemirror_mode": {
    "name": "ipython",
    "version": 3
   },
   "file_extension": ".py",
   "mimetype": "text/x-python",
   "name": "python",
   "nbconvert_exporter": "python",
   "pygments_lexer": "ipython3",
   "version": "3.7.4"
  },
  "toc": {
   "base_numbering": 1,
   "nav_menu": {
    "height": "66px",
    "width": "290px"
   },
   "number_sections": true,
   "sideBar": true,
   "skip_h1_title": false,
   "title_cell": "Table of Contents",
   "title_sidebar": "Contents",
   "toc_cell": false,
   "toc_position": {},
   "toc_section_display": true,
   "toc_window_display": false
  },
  "varInspector": {
   "cols": {
    "lenName": 16,
    "lenType": 16,
    "lenVar": 40
   },
   "kernels_config": {
    "python": {
     "delete_cmd_postfix": "",
     "delete_cmd_prefix": "del ",
     "library": "var_list.py",
     "varRefreshCmd": "print(var_dic_list())"
    },
    "r": {
     "delete_cmd_postfix": ") ",
     "delete_cmd_prefix": "rm(",
     "library": "var_list.r",
     "varRefreshCmd": "cat(var_dic_list()) "
    }
   },
   "types_to_exclude": [
    "module",
    "function",
    "builtin_function_or_method",
    "instance",
    "_Feature"
   ],
   "window_display": false
  }
 },
 "nbformat": 4,
 "nbformat_minor": 2
}
