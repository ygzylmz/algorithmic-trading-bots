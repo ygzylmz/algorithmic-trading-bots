{
 "cells": [
  {
   "cell_type": "markdown",
   "metadata": {},
   "source": [
    "# Algorithmic Trading Çalışması"
   ]
  },
  {
   "cell_type": "markdown",
   "metadata": {},
   "source": [
    "Bu notebook'ta çeşitli makine öğrenmesi metodları kullanılarak algorithmic trading yapılmaya çalışılmaktadır.\n",
    "***\n",
    "**Hazırlayan:** Yağız Yılmaz"
   ]
  },
  {
   "cell_type": "markdown",
   "metadata": {},
   "source": [
    "## Import'lar ve Ayarlamalar"
   ]
  },
  {
   "cell_type": "code",
   "execution_count": 8,
   "metadata": {
    "ExecuteTime": {
     "end_time": "2020-01-23T17:35:21.264114Z",
     "start_time": "2020-01-23T17:35:21.261255Z"
    }
   },
   "outputs": [],
   "source": [
    "# interactive output'lar için:\n",
    "from IPython.core.interactiveshell import InteractiveShell\n",
    "InteractiveShell.ast_node_interactivity = \"all\""
   ]
  },
  {
   "cell_type": "markdown",
   "metadata": {},
   "source": [
    "Burada Boris Banushev'in çalışması kullanılmıştır.\n",
    "<br>\n",
    "Github: https://github.com/borisbanushev/stockpredictionai\n",
    "<br>\n",
    "Medium: https://towardsdatascience.com/aifortrading-2edd6fac689d"
   ]
  },
  {
   "cell_type": "code",
   "execution_count": 9,
   "metadata": {
    "ExecuteTime": {
     "end_time": "2020-01-23T17:35:21.275956Z",
     "start_time": "2020-01-23T17:35:21.266494Z"
    },
    "run_control": {
     "marked": false
    }
   },
   "outputs": [],
   "source": [
    "# Boris Bonushev'in çalışmasının inputları:\n",
    "from utils import *\n",
    "import time\n",
    "import datetime\n",
    "import numpy as np\n",
    "import pandas as pd\n",
    "\n",
    "from mxnet import nd, autograd, gluon\n",
    "from mxnet.gluon import nn, rnn\n",
    "import mxnet as mx\n",
    "\n",
    "import matplotlib.pyplot as plt\n",
    "# matplotlib görsellerini notebook'ta görmek için:\n",
    "%matplotlib inline\n",
    "import seaborn as sns\n",
    "\n",
    "import math\n",
    "\n",
    "from sklearn.decomposition import PCA\n",
    "from sklearn.preprocessing import MinMaxScaler\n",
    "from sklearn.metrics import mean_squared_error\n",
    "from sklearn.preprocessing import StandardScaler\n",
    "\n",
    "import xgboost as xgb\n",
    "from sklearn.metrics import accuracy_score"
   ]
  },
  {
   "cell_type": "code",
   "execution_count": 10,
   "metadata": {
    "ExecuteTime": {
     "end_time": "2020-01-23T17:35:21.282289Z",
     "start_time": "2020-01-23T17:35:21.278992Z"
    }
   },
   "outputs": [],
   "source": [
    "# daha güzel grafikler için:\n",
    "sns.set()"
   ]
  },
  {
   "cell_type": "code",
   "execution_count": 11,
   "metadata": {
    "ExecuteTime": {
     "end_time": "2020-01-23T17:35:21.291381Z",
     "start_time": "2020-01-23T17:35:21.284681Z"
    }
   },
   "outputs": [
    {
     "name": "stderr",
     "output_type": "stream",
     "text": [
      "/Users/yagizyilmaz/opt/anaconda3/lib/python3.7/site-packages/ipykernel_launcher.py:6: UserWarning: warning test 1\n",
      "  \n"
     ]
    }
   ],
   "source": [
    "# warning ayarlamaları\n",
    "import warnings\n",
    "\n",
    "# test için:\n",
    "warnings.filterwarnings(\"always\")\n",
    "warnings.warn(\"warning test 1\")\n",
    "\n",
    "warnings.filterwarnings(\"ignore\")\n",
    "# tüm warningler ignore edilir, gösterilmez.\n",
    "warnings.warn(\"warning test 2\")"
   ]
  },
  {
   "cell_type": "markdown",
   "metadata": {},
   "source": [
    "## Veri Girişi"
   ]
  },
  {
   "cell_type": "markdown",
   "metadata": {},
   "source": [
    "Burada Boris MXNet için işlemler yapıyor. NEDEN???"
   ]
  },
  {
   "cell_type": "code",
   "execution_count": 12,
   "metadata": {
    "ExecuteTime": {
     "end_time": "2020-01-23T17:35:21.299358Z",
     "start_time": "2020-01-23T17:35:21.295234Z"
    }
   },
   "outputs": [],
   "source": [
    "context = mx.cpu()\n",
    "model_ctx = mx.cpu()\n",
    "mx.random.seed(1719)"
   ]
  },
  {
   "cell_type": "markdown",
   "metadata": {
    "ExecuteTime": {
     "end_time": "2020-01-23T16:14:18.733582Z",
     "start_time": "2020-01-23T16:14:18.726333Z"
    }
   },
   "source": [
    "**MXNet ile ilgili çeşitli bilgiler:** (internetten bulundu)\n",
    "\n",
    "- Apache MXNet, derin sinir ağlarını eğitmek ve yerleştirmek için kullanılan açık kaynaklı bir derin öğrenme yazılımı çerçevesidir. Hızlı model eğitimi sağlayan ölçeklenebilir ve esnek bir programlama modelini ve çoklu programlama dilini destekler\n",
    "\n",
    "- MXNet, Keras gibi yüksek seviye kütüphanedir, ancak farklı şekillerde bizlere kolaylıklar sağlıyor.\n",
    "\n",
    "- Bir taraftan, MXNet’i kullanarak Keras’ı kullanmaktan çok bir ağ oluşturmak için daha fazla çaba gerektiriyor. Daha az öğretici sayesinde daha keskin bir öğrenme eğrisi bulduk.\n",
    "\n",
    "- Bununla birlikte, bunun için 7 farklı dilde çalışmalarınızı destekler! Bunlar arasında C++, Python, R, Javascript ve hatta Matlab bulunur.\n",
    "\n",
    "- MXNet gerçek bir polyglot (çok dilli) olmasından dolayı, farklı dillerde model paylaşan ekipler için harika çözümler sunmaktadır.\n",
    "\n",
    "- MXNet’in diğer bir avantajı da dağıtılmış bilgi işlemini desteklemesidir. Bu, birden fazla CPU veya GPU üzerinde eğitim vererek, eğitim hızını artırma ihtiyacınız varsa, MXNet sizin için doğru kütüphanedir."
   ]
  },
  {
   "cell_type": "markdown",
   "metadata": {},
   "source": [
    "### Dosyayı Okuma"
   ]
  },
  {
   "cell_type": "code",
   "execution_count": 13,
   "metadata": {
    "ExecuteTime": {
     "end_time": "2020-01-23T17:35:21.305535Z",
     "start_time": "2020-01-23T17:35:21.301646Z"
    }
   },
   "outputs": [],
   "source": [
    "# zamanı tanıtmak için:\n",
    "def parser(x):\n",
    "    return datetime.datetime.strptime(x,'%Y-%m-%d')"
   ]
  },
  {
   "cell_type": "code",
   "execution_count": 32,
   "metadata": {
    "ExecuteTime": {
     "end_time": "2020-01-23T17:44:44.760370Z",
     "start_time": "2020-01-23T17:44:44.685567Z"
    }
   },
   "outputs": [
    {
     "data": {
      "text/html": [
       "<div>\n",
       "<style scoped>\n",
       "    .dataframe tbody tr th:only-of-type {\n",
       "        vertical-align: middle;\n",
       "    }\n",
       "\n",
       "    .dataframe tbody tr th {\n",
       "        vertical-align: top;\n",
       "    }\n",
       "\n",
       "    .dataframe thead th {\n",
       "        text-align: right;\n",
       "    }\n",
       "</style>\n",
       "<table border=\"1\" class=\"dataframe\">\n",
       "  <thead>\n",
       "    <tr style=\"text-align: right;\">\n",
       "      <th></th>\n",
       "      <th>Date</th>\n",
       "      <th>Open</th>\n",
       "    </tr>\n",
       "  </thead>\n",
       "  <tbody>\n",
       "    <tr>\n",
       "      <th>0</th>\n",
       "      <td>2000-01-13</td>\n",
       "      <td>85.125</td>\n",
       "    </tr>\n",
       "    <tr>\n",
       "      <th>1</th>\n",
       "      <td>2000-01-14</td>\n",
       "      <td>85.500</td>\n",
       "    </tr>\n",
       "    <tr>\n",
       "      <th>2</th>\n",
       "      <td>2000-01-18</td>\n",
       "      <td>85.000</td>\n",
       "    </tr>\n",
       "    <tr>\n",
       "      <th>3</th>\n",
       "      <td>2000-01-19</td>\n",
       "      <td>86.875</td>\n",
       "    </tr>\n",
       "    <tr>\n",
       "      <th>4</th>\n",
       "      <td>2000-01-20</td>\n",
       "      <td>87.000</td>\n",
       "    </tr>\n",
       "  </tbody>\n",
       "</table>\n",
       "</div>"
      ],
      "text/plain": [
       "        Date    Open\n",
       "0 2000-01-13  85.125\n",
       "1 2000-01-14  85.500\n",
       "2 2000-01-18  85.000\n",
       "3 2000-01-19  86.875\n",
       "4 2000-01-20  87.000"
      ]
     },
     "execution_count": 32,
     "metadata": {},
     "output_type": "execute_result"
    }
   ],
   "source": [
    "file_name = \"GS.csv\"\n",
    "data = pd.read_csv(file_name,\n",
    "                   header=0,\n",
    "                   usecols=['Date', 'Open'],\n",
    "                   parse_dates=['Date'],\n",
    "                   date_parser=parser)\n",
    "data = data.dropna()\n",
    "data = data.reset_index(drop=True)\n",
    "data.head()\n",
    "\n",
    "# header=0 birinci satır header'dır."
   ]
  },
  {
   "cell_type": "code",
   "execution_count": 18,
   "metadata": {
    "ExecuteTime": {
     "end_time": "2020-01-23T17:36:13.064760Z",
     "start_time": "2020-01-23T17:36:13.061503Z"
    }
   },
   "outputs": [
    {
     "name": "stdout",
     "output_type": "stream",
     "text": [
      "There are 5030 number of days in the dataset.\n"
     ]
    }
   ],
   "source": [
    "print('There are {} number of days in the dataset.'.format(data.shape[0]))"
   ]
  },
  {
   "cell_type": "markdown",
   "metadata": {
    "ExecuteTime": {
     "end_time": "2020-01-23T17:36:57.612291Z",
     "start_time": "2020-01-23T17:36:57.608917Z"
    }
   },
   "source": [
    "**Plot bastır:**"
   ]
  },
  {
   "cell_type": "code",
   "execution_count": 36,
   "metadata": {
    "ExecuteTime": {
     "end_time": "2020-01-23T17:45:42.220503Z",
     "start_time": "2020-01-23T17:45:41.885154Z"
    }
   },
   "outputs": [
    {
     "data": {
      "text/plain": [
       "<Figure size 1400x500 with 0 Axes>"
      ]
     },
     "execution_count": 36,
     "metadata": {},
     "output_type": "execute_result"
    },
    {
     "data": {
      "text/plain": [
       "[<matplotlib.lines.Line2D at 0x1a240c4ad0>]"
      ]
     },
     "execution_count": 36,
     "metadata": {},
     "output_type": "execute_result"
    },
    {
     "data": {
      "text/plain": [
       "<matplotlib.collections.LineCollection at 0x1a240b1e50>"
      ]
     },
     "execution_count": 36,
     "metadata": {},
     "output_type": "execute_result"
    },
    {
     "data": {
      "text/plain": [
       "Text(0.5, 0, 'Date')"
      ]
     },
     "execution_count": 36,
     "metadata": {},
     "output_type": "execute_result"
    },
    {
     "data": {
      "text/plain": [
       "Text(0, 0.5, 'USD')"
      ]
     },
     "execution_count": 36,
     "metadata": {},
     "output_type": "execute_result"
    },
    {
     "data": {
      "text/plain": [
       "Text(0.5, 1.0, 'Goldman Sachs stock price')"
      ]
     },
     "execution_count": 36,
     "metadata": {},
     "output_type": "execute_result"
    },
    {
     "data": {
      "text/plain": [
       "<matplotlib.legend.Legend at 0x1a243ffed0>"
      ]
     },
     "execution_count": 36,
     "metadata": {},
     "output_type": "execute_result"
    },
    {
     "data": {
      "image/png": "[encoded data removed]",
      "text/plain": [
       "<Figure size 1400x500 with 1 Axes>"
      ]
     },
     "metadata": {},
     "output_type": "display_data"
    }
   ],
   "source": [
    "plt.figure(figsize=(14, 5), dpi=100)\n",
    "plt.plot(data['Date'], data['Open'], label='Goldman Sachs stock')\n",
    "\n",
    "# yaklaşık olarak dikey çizgiyi çizdirdim:\n",
    "plt.vlines(datetime.date(2014, 1, 1),\n",
    "           0,\n",
    "           270,\n",
    "           linestyles='--',\n",
    "           colors='gray',\n",
    "           label='Train/Test data cut-off')\n",
    "plt.xlabel('Date')\n",
    "plt.ylabel('USD')\n",
    "plt.title('Goldman Sachs stock price')\n",
    "plt.legend()\n",
    "plt.show()"
   ]
  },
  {
   "cell_type": "markdown",
   "metadata": {},
   "source": [
    "## Monte Carlo Simülasyonu Çalışması"
   ]
  },
  {
   "cell_type": "markdown",
   "metadata": {},
   "source": [
    "### Pi Sayısı Hesaplama Örneği"
   ]
  },
  {
   "cell_type": "markdown",
   "metadata": {},
   "source": [
    "**İlgili linkler:**\n",
    "<br>\n",
    "https://medium.com/@sddkal/python-ile-monte-carlo-sim%C3%BClasyonu-fcacad9f7649\n",
    "<br>\n",
    "https://furkanonder.github.io/Monte-Carlo-Methodu-Ile-Pi-Sayisinin-Hesaplanmasi"
   ]
  },
  {
   "cell_type": "code",
   "execution_count": 40,
   "metadata": {
    "ExecuteTime": {
     "end_time": "2020-01-23T17:55:43.074903Z",
     "start_time": "2020-01-23T17:55:26.496554Z"
    }
   },
   "outputs": [
    {
     "name": "stdout",
     "output_type": "stream",
     "text": [
      "3.1412872\n"
     ]
    }
   ],
   "source": [
    "def monte_carlo_pi(number_of_samples=5000000):\n",
    "    ''' Get pi form a unit square and a unit circle '''\n",
    "\n",
    "    # icerdekilerin sayisi\n",
    "    inside = 0\n",
    "\n",
    "    for i in range(number_of_samples):\n",
    "        x = np.random.rand()\n",
    "        y = np.random.rand()  # iki adet random sayi uret\n",
    "\n",
    "        if np.square(x) + np.square(\n",
    "                y) < 1:  # birim cemberin icindeyse(orjine uzakligi 1'den azsa)\n",
    "            inside += 1  # icerideki sayisini arttir\n",
    "\n",
    "    return 4 * float(\n",
    "        inside\n",
    "    ) / number_of_samples  # 4 * icerideki / hepsi(karenin icinde kalma olasiliigi gibi dusunebiliriz)\n",
    "\n",
    "\n",
    "print(monte_carlo_pi())"
   ]
  },
  {
   "cell_type": "markdown",
   "metadata": {
    "ExecuteTime": {
     "end_time": "2020-01-23T18:15:44.437655Z",
     "start_time": "2020-01-23T18:15:44.430906Z"
    }
   },
   "source": [
    "**Alıntı:**\n",
    "<br>\n",
    "<br>\n",
    "Merhaba, Bugünki yazımda Monte Carlo Metodu ile pi sayısının hesaplanmasını anlatacağım.Öncelikle Monte Carlo Metodu’nu tanıyalım.\n",
    "<br>\n",
    "<br>\n",
    "Monte Carlo Metodu, genel olarak istatistiksel simülasyonların yapılması için rastgele sayılardan faydalanılan bir metot olarak tanımlayabiliriz. Los Alamos Bilimsel Laboratuar’ından John Von Neumann, Stan Ulam ve Nick Metropolis adlarında üç bilim adamı tarafından ortaya çıkarılmıştır.Monte Carlo metodu ilk defa II.Dünya Savaşı sırasında atom bombasının geliştirilmesi ile ilgili problemlere uygulanmıştır.Günümüzde bu metot,Hücre Simülasyonu, Borsa Modelleri, Dağılım Fonksiyonları,Atom ve Molekül Fiziği, Nükleer Fizik modellerini test eden simülasyonlarının hesaplanmalarında kullanılır.\n",
    "<br>\n",
    "<br>\n",
    "Şimdi Monte Carlo Metodu ile pi sayısının hesaplanmasına geçelim.Alanı 4 birim kare olan bir kare düşünelim. Karenin içine de teğet olarak yerleştirilmiş yarıçapı 1 birim olan bir çember(birim çember) çizelim.\n",
    "<br>\n",
    "<br>\n",
    "Karenin içine kordinatları Z(a, b) noktası gibi rastgele atışlar gerçekleştirelim.Yaptığımız rastgele atışların bir kısmı çemberin içinde bir kısmı ise dışında olacaktır.Yapılan atışların:\n",
    "<br>\n",
    "<br>\n",
    "$$\\frac{\\text{Çemberin içinde kalma olasılığı}}{\\text{Karenin içinde kalma olasılığı}}=\\frac{\\pi*r^{2}}{(2r)^2}=\\frac{\\pi}{4}$$\n",
    "<br>\n",
    "<br>\n",
    "olarak hesaplanır.Elde ettiğimiz bu ifadeyi 4 ile çarptığımızda ise yaklaşık olarak pi sayısını elde ederiz."
   ]
  }
 ],
 "metadata": {
  "kernelspec": {
   "display_name": "Python 3",
   "language": "python",
   "name": "python3"
  },
  "language_info": {
   "codemirror_mode": {
    "name": "ipython",
    "version": 3
   },
   "file_extension": ".py",
   "mimetype": "text/x-python",
   "name": "python",
   "nbconvert_exporter": "python",
   "pygments_lexer": "ipython3",
   "version": "3.7.4"
  },
  "toc": {
   "base_numbering": 1,
   "nav_menu": {
    "height": "66px",
    "width": "290px"
   },
   "number_sections": true,
   "sideBar": true,
   "skip_h1_title": false,
   "title_cell": "Table of Contents",
   "title_sidebar": "Contents",
   "toc_cell": false,
   "toc_position": {},
   "toc_section_display": true,
   "toc_window_display": false
  },
  "varInspector": {
   "cols": {
    "lenName": 16,
    "lenType": 16,
    "lenVar": 40
   },
   "kernels_config": {
    "python": {
     "delete_cmd_postfix": "",
     "delete_cmd_prefix": "del ",
     "library": "var_list.py",
     "varRefreshCmd": "print(var_dic_list())"
    },
    "r": {
     "delete_cmd_postfix": ") ",
     "delete_cmd_prefix": "rm(",
     "library": "var_list.r",
     "varRefreshCmd": "cat(var_dic_list()) "
    }
   },
   "position": {
    "height": "407px",
    "left": "871px",
    "right": "20px",
    "top": "117px",
    "width": "380px"
   },
   "types_to_exclude": [
    "module",
    "function",
    "builtin_function_or_method",
    "instance",
    "_Feature"
   ],
   "window_display": false
  }
 },
 "nbformat": 4,
 "nbformat_minor": 2
}
